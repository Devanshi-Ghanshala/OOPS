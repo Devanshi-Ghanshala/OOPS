{
  "nbformat": 4,
  "nbformat_minor": 0,
  "metadata": {
    "colab": {
      "provenance": []
    },
    "kernelspec": {
      "name": "python3",
      "display_name": "Python 3"
    },
    "language_info": {
      "name": "python"
    }
  },
  "cells": [
    {
      "cell_type": "markdown",
      "source": [
        "Q1. What is Object-Oriented Programming (OOP)?\n",
        "- Object-Oriented Programming (OOP) is a programming paradigm that focuses on creating and using objects that encapsulate data and behavior. Python supports OOP using classes and objects.\n",
        "\n",
        "\n",
        "Q2. What is a class in OOP?\n",
        "- A class is a blueprint for creating objects. It defines the properties (attributes) and behaviors (methods) of the objects.\n",
        "eg- class Car\n",
        "\n",
        "Q3. What is an object in OOP?\n",
        "- An object is an instance of a class. It holds the properties and behaviours defined by its class.\n",
        "eg- a specific car like Ferrari or McLaren\n",
        "\n",
        "Q4. What is the difference between abstraction and encapsulation?\n",
        "- Abstraction:\n",
        "  - Abstraction Hides complexity by showing only essential features of an object while ignoring unnecessary details.\n",
        "  - It focuses on \"What does this object do?\" by providing a high-level design.\n",
        "  - It is Achieved via abstract classes/interfaces.\n",
        "  - Its main benefit is simplifying usage for the end user.\n",
        "  - For example, a Vehicle class may have a start() method, abstracting away the internal engine mechanics.\n",
        "\n",
        "- Encapsulation:\n",
        "  - Encapsulation protects data integrity by restricting direct access to an object’s internal state.\n",
        "  - It focuses on \"How does this object work?\" by securing implementation details.\n",
        "  - It is implemented using private fields with getters and setters.\n",
        "  - It ensures data is not misused or corrupted.\n",
        "  - For example, a BankAccount class might hide the balance field and only allow modifications through controlled methods like deposit() and withdraw().\n",
        "\n",
        "Q5. What are dunder methods in Python?\n",
        "- Dunder (Double Underscore) methods are special methods in Python that start and end with double underscores (__). They are built into Python classes and allow customization of object behavior.\n",
        "\n",
        "- Uses:\n",
        "  -  Define object initialization (__init__)\n",
        "  - Enable operator overloading (__add__, __sub__)\n",
        "  - Customize string representation (__str__, __repr__)\n",
        "  - Control object behavior (__len__, __getitem__, __setattr__)\n",
        "\n",
        "Q6. Explain the concept of inheritance in OOP.\n",
        "- Inheritance is a fundamental concept in object-oriented programming (OOP) that allows a child class (also called a subclass or derived class) to inherit attributes and methods from a parent class (also called a base class or superclass).\n",
        "\n",
        "- This helps in code reuse and reducing redundancy because the child class doesn't have to rewrite common functionalities already defined in the parent class.\n",
        "\n",
        "- Types of Inheritance in Python\n",
        "  - Single Inheritance → One parent, one child.\n",
        "  - Multiple Inheritance → A child class inherits from multiple parent classes.\n",
        "  - Multilevel Inheritance → A class inherits from a child class, forming a chain.\n",
        "  - Hierarchical Inheritance → One parent class has multiple child classes.\n",
        "  - Hybrid Inheritance → A combination of two or more types of inheritance.\n",
        "\n",
        "Q7. What is polymorphism in OOP?\n",
        "- Polymorphism (Greek: \"many forms\") is an Object-Oriented Programming (OOP) concept that allows a single method to have multiple implementations depending on the object that calls it.\n",
        "The same method name behaves differently for different objects.\n",
        "\n",
        "Q8. How is encapsulation achieved in Python?\n",
        "- Encapsulation is achieved by using private (__var) or protected (_var) variables and accessing them through methods (getters/setters).\n",
        "\n",
        "Q9. What is a constructor in Python?\n",
        "- The __init__ method is the constructor in Python. It’s automatically called when a new object is created and is used to initialize the object. It Sets up the object with initial values.\n",
        "- When you create an object from a class (i.e., an instance), the __init__ method is called automatically to set up initial values (attributes like name, age, etc.) and prepare the object to be used.\n",
        "\n",
        "Q10. What are class and static methods in Python?\n",
        "- @classmethod:\n",
        "  - It is a method bound to the class instead of a particular instance.\n",
        "  - It can access and modify class-level attributes shared across all instances\n",
        "  - It uses cls instead of self, where cls represents the class itself.\n",
        "\n",
        "- @Staticmethod:\n",
        "   - It is a static method that behaves like a plain function, but belongs to the class.\n",
        "   - It does NOT modify class or instance state.\n",
        "   - It does NOT access instance (self) or class (cls) variables.\n",
        "\n",
        "\n",
        "Q11: What is method overloading in Python?\n",
        "- #Method Overloading is defining multiple methods with the same name but different parameters within the same class. Since Python does not support true method overloading, we use default arguments or *args.\n",
        "\n",
        "Q12: What is method overriding in OOP?\n",
        "- Method overriding happens when a child class redefines a method from its parent class using the same method name and same parameters.\n",
        "\n",
        "Q13: What is a property decorator in Python?\n",
        "- Property decorators (@property) allow you to define methods that act like attributes, enabling controlled access to class attributes with getters, setters, and deleters. They help enforce encapsulation and add validation logic.\n",
        "\n",
        "Q14: Why is polymorphism important in OOP?\n",
        "- Polymorphism makes code more flexible and extensible. You can write code that works on the superclass, and it will also work on any subclass.\n",
        "\n",
        "Q15: What is an abstract class in Python?\n",
        "-An abstract class (using ABC and @abstractmethod) cannot be instantiated and is meant to be subclassed. It defines a common interface for all derived classes.\n",
        "\n",
        "Q16: What are the advantages of OOP?\n",
        "- Modularity (classes as independent units)\n",
        "- Inheritance (code resuse)\n",
        "- Encapsulation (data hiding)\n",
        "- Easy to maintain and scale (easy to extend)\n",
        "- Real-world modeling\n",
        "\n",
        "Q17: What is the difference between a class variable and an instance variable?\n",
        "- class Variable:\n",
        "   - Defined inside class, outside methods\n",
        "   - Shared by all instances\n",
        "   - Accessed by ClassName.var or self.var\n",
        "\n",
        "- Instance Variable:\n",
        "  - Defined inside __init__() or other methods using self\n",
        "  - Unique to each instance\n",
        "  - Accessed Only via self.var\n",
        "  - Store object-specific data like name, age\n",
        "\n",
        "Q18: What is multiple inheritance in Python?\n",
        "- It allows a class to inherit from more than one parent class. Python uses the Method Resolution Order (MRO) to resolve conflicts.\n",
        "\n",
        "Q19: Explain the purpose of __str__ and __repr__ methods in Python.\n",
        "- __str__: Used by print() to return a readable string representation of the object.\n",
        "- __repr__: Should return an official string that can recreate the object.\n",
        "\n",
        "Q20: What is the significance of the super() function in Python?\n",
        "- super() lets you call methods from a parent class, useful especially in method overriding and multiple inheritance.\n",
        "\n",
        "Q21: What is the significance of the __del__ method in Python?\n",
        "- The __del__ method is a destructor — called when an object is about to be deleted.\n",
        "\n",
        "Q22: What is the difference between @staticmethod and @classmethod in Python?\n",
        "- @classmethod:\n",
        "  - It is a method bound to the class instead of a particular instance.\n",
        "  - It can access and modify class-level attributes shared across all instances\n",
        "  - It uses cls instead of self, where cls represents the class itself.\n",
        "\n",
        "- @Staticmethod:\n",
        "   - It is a static method that behaves like a plain function, but belongs to the class.\n",
        "   - It does NOT modify class or instance state.\n",
        "   - It does NOT access instance (self) or class (cls) variables.\n",
        "\n",
        "Q23: How does polymorphism work in Python with inheritance?\n",
        "- Child classes override parent methods to change behavior. You can call a method on an object and it will automatically run the correct version depending on the object's class — even if you’re calling it on a reference to the parent class.\n",
        "\n",
        "Q24: What is method chaining in Python OOP?\n",
        "- Method chaining means calling multiple methods on the same object in a single line. This is usually done by returning self from each method.\n",
        "\n",
        "Q25: What is the purpose of the __call__ method in Python?\n",
        "- If a class defines __call__, then its instances can be called like a function.\n",
        "\n"
      ],
      "metadata": {
        "id": "w9D5FE8NWozL"
      }
    },
    {
      "cell_type": "code",
      "source": [
        "#1. Create a parent class Animal with a method speak() that prints a generic message. Create a child class Dog that overrides the speak() method to print \"Bark!\n",
        "\n",
        "class Animal:\n",
        "  def speak(Self):\n",
        "    print(\"Animal sound\")\n",
        "\n",
        "class Dog(Animal):\n",
        "  def speak(Self):\n",
        "    print(\"Bark!\")\n",
        "\n",
        "dog = Animal()\n",
        "dog.speak()\n",
        "\n",
        "dog = Dog()\n",
        "dog.speak()"
      ],
      "metadata": {
        "colab": {
          "base_uri": "https://localhost:8080/"
        },
        "id": "avI_KZ-77fQ7",
        "outputId": "ddb7d1f2-bd56-42b0-b052-06c26b66a6a1"
      },
      "execution_count": null,
      "outputs": [
        {
          "output_type": "stream",
          "name": "stdout",
          "text": [
            "Animal sound\n",
            "Bark!\n"
          ]
        }
      ]
    },
    {
      "cell_type": "code",
      "source": [
        "#2. Write a program to create an abstract class Shape with a method area(). Derive classes Circle and Rectangle from it and implement the area() method in both.\n",
        "from abc import ABC, abstractmethod\n",
        "\n",
        "class Shape:\n",
        "    @abstractmethod\n",
        "    def area(self):\n",
        "      pass\n",
        "\n",
        "class Circle(Shape):\n",
        "  def __init__(self, radius):\n",
        "    self.radius = radius\n",
        "\n",
        "  def area(self):\n",
        "    return 3.14 * self.radius **2\n",
        "\n",
        "class Rectangle(Shape):\n",
        "  def __init__(self, length, breadth):\n",
        "    self.length = length\n",
        "    self.breadth = breadth\n",
        "\n",
        "  def area(self):\n",
        "    return self.length * self.breadth\n",
        "\n",
        "shape = Shape()\n",
        "shape.area()\n",
        "\n",
        "circle = Circle(15)\n",
        "print(\"Area of Circle =\", circle.area())\n",
        "\n",
        "rectangle = Rectangle(10, 15)\n",
        "print(\"Area of Rectangle =\", rectangle.area())"
      ],
      "metadata": {
        "id": "ajQcDbzm7-Qn",
        "colab": {
          "base_uri": "https://localhost:8080/"
        },
        "outputId": "ead7beac-8d99-46c9-d7f1-5c4fbf1fdb80"
      },
      "execution_count": null,
      "outputs": [
        {
          "output_type": "stream",
          "name": "stdout",
          "text": [
            "Area of Circle = 706.5\n",
            "Area of Rectangle = 150\n"
          ]
        }
      ]
    },
    {
      "cell_type": "code",
      "source": [
        "#3. Implement a multi-level inheritance scenario where a class Vehicle has an attribute type. Derive a class Car and further derive a class ElectricCar that adds a battery attribute.\n",
        "class Vehicle:\n",
        "  def __init__(self, type):\n",
        "    self.type = type\n",
        "\n",
        "class Car(Vehicle):\n",
        "  def __init__(self, type, model):\n",
        "    super().__init__(type)\n",
        "    self.model = model\n",
        "\n",
        "class ElectricCar(Car):\n",
        "  def __init__(self, type, model, battery):\n",
        "    super().__init__(type, model)\n",
        "    self.battery = battery\n",
        "\n",
        "car = ElectricCar(\"F1 Racing Car\", \"McLaren\",\"95 kWh\")\n",
        "print(car.type)\n",
        "print(car.model)\n",
        "print(car.battery)"
      ],
      "metadata": {
        "id": "VaNUKuugjpSa",
        "colab": {
          "base_uri": "https://localhost:8080/"
        },
        "outputId": "a638e197-da3e-4a63-9e9c-2fdbeea7fd51"
      },
      "execution_count": null,
      "outputs": [
        {
          "output_type": "stream",
          "name": "stdout",
          "text": [
            "F1 Racing Car\n",
            "McLaren\n",
            "95 kWh\n"
          ]
        }
      ]
    },
    {
      "cell_type": "code",
      "source": [
        "#4. Demonstrate polymorphism by creating a base class Bird with a method fly(). Create two derived classes Sparrow and Penguin that override the fly() method.\n",
        "class Bird:\n",
        "  def fly(self):\n",
        "    print(\"Birds can fly\")\n",
        "\n",
        "class Sparrow(Bird):\n",
        "  def fly(self):\n",
        "    print(\"Sparrows can fly\")\n",
        "\n",
        "class Penguin(Bird):\n",
        "  def fly(self):\n",
        "    print(\"penguins can't fly\")\n",
        "\n",
        "bird = Bird()\n",
        "bird.fly()\n",
        "\n",
        "sparrow = Sparrow()\n",
        "sparrow.fly()\n",
        "\n",
        "penguin = Penguin()\n",
        "penguin.fly()"
      ],
      "metadata": {
        "colab": {
          "base_uri": "https://localhost:8080/"
        },
        "id": "tDIdY1h8oATe",
        "outputId": "9626fcf3-0ac6-4280-b06f-23c2b7065f4c"
      },
      "execution_count": null,
      "outputs": [
        {
          "output_type": "stream",
          "name": "stdout",
          "text": [
            "Birds can fly\n",
            "Sparrows can fly\n",
            "penguins can't fly\n"
          ]
        }
      ]
    },
    {
      "cell_type": "code",
      "source": [
        "#5. Write a program to demonstrate encapsulation by creating a class BankAccount with private attributes balance and methods to deposit, withdraw, and check balance.\n",
        "class BankAccount:\n",
        "  def __init__(self, balance):\n",
        "    self.__balance = balance\n",
        "\n",
        "  def Deposit(self, amount):\n",
        "    self.__balance += amount\n",
        "\n",
        "  def Withdraw(self, amount):\n",
        "    if self.__balance >= amount:\n",
        "      self.__balance -= amount\n",
        "    else:\n",
        "      print(\"Insufficient Balance\")\n",
        "\n",
        "  def CheckBalance(self):\n",
        "    return self.__balance\n",
        "\n",
        "account = BankAccount(10000)\n",
        "print(account.CheckBalance())\n",
        "\n",
        "account.Deposit(5000)\n",
        "print(account.CheckBalance())\n",
        "\n",
        "account.Withdraw(8000)\n",
        "print(account.CheckBalance())\n",
        "\n",
        "account.Withdraw(25000)"
      ],
      "metadata": {
        "colab": {
          "base_uri": "https://localhost:8080/"
        },
        "id": "_Juf5kUdu99G",
        "outputId": "39d71f02-e106-4b11-9efb-a329154d0fb7"
      },
      "execution_count": null,
      "outputs": [
        {
          "output_type": "stream",
          "name": "stdout",
          "text": [
            "10000\n",
            "15000\n",
            "7000\n",
            "Insufficient Balance\n"
          ]
        }
      ]
    },
    {
      "cell_type": "code",
      "source": [
        "#6. Demonstrate runtime polymorphism using a method play() in a base class Instrument. Derive classes Guitar and Piano that implement their own version of play().\n",
        "class Instrument:\n",
        "  def play(self):\n",
        "    print(\"Intsrument is playing\")\n",
        "\n",
        "class Guitar(Instrument):\n",
        "  def play(self):\n",
        "    print(\"Guitar is playing.\")\n",
        "\n",
        "class Piano(Instrument):\n",
        "  def play(self):\n",
        "    print(\"Piano is playing.\")\n",
        "\n",
        "instrument = Instrument()\n",
        "instrument.play()\n",
        "\n",
        "guitar = Guitar()\n",
        "guitar.play()\n",
        "\n",
        "piano = Piano()\n",
        "piano.play()"
      ],
      "metadata": {
        "colab": {
          "base_uri": "https://localhost:8080/"
        },
        "id": "O-WwEdC_1LYF",
        "outputId": "3af1378d-3eeb-4302-b8fc-a18eec0bf84b"
      },
      "execution_count": null,
      "outputs": [
        {
          "output_type": "stream",
          "name": "stdout",
          "text": [
            "Intsrument is playing\n",
            "Guitar is playing.\n",
            "Piano is playing.\n"
          ]
        }
      ]
    },
    {
      "cell_type": "code",
      "source": [
        "#7. Create a class MathOperations with a class method add_numbers() to add two numbers and a static method subtract_numbers() to subtract two numbers.\n",
        "class MathOperations:\n",
        "\n",
        "  @classmethod\n",
        "  def add_numbers(clas, num1, num2):\n",
        "    return num1 + num2\n",
        "\n",
        "  @staticmethod\n",
        "  def subtract_numbers(num1, num2):\n",
        "    return num1 - num2\n",
        "\n",
        "print(\"Addition:\", MathOperations.add_numbers(10, 5))\n",
        "print(\"Subtraction:\", MathOperations.subtract_numbers(10, 5))"
      ],
      "metadata": {
        "colab": {
          "base_uri": "https://localhost:8080/"
        },
        "id": "e8dobXWR2DHO",
        "outputId": "3da77609-5c52-4868-9e35-c4f0361d839e"
      },
      "execution_count": null,
      "outputs": [
        {
          "output_type": "stream",
          "name": "stdout",
          "text": [
            "Addition: 15\n",
            "Subtraction: 5\n"
          ]
        }
      ]
    },
    {
      "cell_type": "code",
      "source": [
        "#8. Implement a class Person with a class method to count the total number of persons created.\n",
        "class Person:\n",
        "  count = 0\n",
        "\n",
        "  def __init__(self):\n",
        "    Person.count += 1\n",
        "\n",
        "  @classmethod\n",
        "  def total_no_of_persons(cls):\n",
        "    return cls.count\n",
        "\n",
        "p1= Person()\n",
        "p2 = Person()\n",
        "p3 = Person()\n",
        "print(\"Total number of persons:\", Person.total_no_of_persons())"
      ],
      "metadata": {
        "colab": {
          "base_uri": "https://localhost:8080/"
        },
        "id": "KhaGslWH58WP",
        "outputId": "2878ba27-def4-4cd1-f9d1-663246893fdc"
      },
      "execution_count": null,
      "outputs": [
        {
          "output_type": "stream",
          "name": "stdout",
          "text": [
            "Total number of persons: 3\n"
          ]
        }
      ]
    },
    {
      "cell_type": "code",
      "source": [
        "#9. Write a class Fraction with attributes numerator and denominator. Override the str method to display the fraction as \"numerator/denominator\".\n",
        "class Fraction:\n",
        "  def __init__(self, numerator, denominator):\n",
        "    self.numerator = numerator\n",
        "    self.denominator = denominator\n",
        "\n",
        "  def __str__(self):\n",
        "    return f\"{self.numerator}/{self.denominator}\"\n",
        "\n",
        "fraction = Fraction(127, 3)\n",
        "print(fraction)"
      ],
      "metadata": {
        "colab": {
          "base_uri": "https://localhost:8080/"
        },
        "id": "7glHSgYG8QXa",
        "outputId": "0030c929-fa2c-466c-8f6b-bb9a9c86e3ff"
      },
      "execution_count": null,
      "outputs": [
        {
          "output_type": "stream",
          "name": "stdout",
          "text": [
            "127/3\n"
          ]
        }
      ]
    },
    {
      "cell_type": "code",
      "source": [
        "#10. Demonstrate operator overloading by creating a class Vector and overriding the add method to add two vectors.\n",
        "class Vector:\n",
        "  def __init__(self, x, y):\n",
        "    self.x = x\n",
        "    self.y = y\n",
        "\n",
        "  def __add__(self, other):\n",
        "    return Vector(self.x + other.x, self.y + other.y)\n",
        "\n",
        "  def __str__(self):\n",
        "    return f\"({self.x}, {self.y})\"\n",
        "\n",
        "v1 = Vector(100, 27)\n",
        "v2 = Vector(27, 100)\n",
        "result = v1 + v2\n",
        "print (result)"
      ],
      "metadata": {
        "colab": {
          "base_uri": "https://localhost:8080/"
        },
        "id": "6RaiHpfl9pO7",
        "outputId": "18f8d29d-58f9-4e1a-97c4-14c8e68a1422"
      },
      "execution_count": null,
      "outputs": [
        {
          "output_type": "stream",
          "name": "stdout",
          "text": [
            "(127, 127)\n"
          ]
        }
      ]
    },
    {
      "cell_type": "code",
      "source": [
        "#11. Create a class Person with attributes name and age. Add a method greet() that prints \"Hello, my name is {name} and I am {age} years old.\"\n",
        "class Person:\n",
        "  def __init__(self, name, age):\n",
        "    self.name = name\n",
        "    self.age = age\n",
        "\n",
        "  def greet(self):\n",
        "        print(f\"Hello, my name is {self.name} and I am {self.age} years old.\")\n",
        "\n",
        "p1 = Person(\"Zoey Sullivan\", 25)\n",
        "p1.greet()"
      ],
      "metadata": {
        "colab": {
          "base_uri": "https://localhost:8080/"
        },
        "id": "YAnjC1b1AcQ5",
        "outputId": "40299d70-4fcd-4b8b-a0cd-5b8a08afe981"
      },
      "execution_count": null,
      "outputs": [
        {
          "output_type": "stream",
          "name": "stdout",
          "text": [
            "Hello, my name is Zoey Sullivan and I am 25 years old.\n"
          ]
        }
      ]
    },
    {
      "cell_type": "code",
      "source": [
        "#12. Implement a class Student with attributes name and grades. Create a method average_grade() to compute the average of the grades.\n",
        "class Student:\n",
        "  def __init__(self, name, grades):\n",
        "    self.name = name\n",
        "    self.grades = grades\n",
        "\n",
        "  def average_grade(self):\n",
        "    return sum(self.grades)/ len(self.grades)\n",
        "\n",
        "s1 = Student(\"Zoey Sullivan\", [99, 99, 94, 94, 91])\n",
        "print(f\"{s1.name}'s average grade is: {s1.average_grade()}\")"
      ],
      "metadata": {
        "id": "phwHzmt3ClwX",
        "colab": {
          "base_uri": "https://localhost:8080/"
        },
        "outputId": "7d9ecd3c-eb60-47a7-92a2-57ac4876a506"
      },
      "execution_count": null,
      "outputs": [
        {
          "output_type": "stream",
          "name": "stdout",
          "text": [
            "Zoey Sullivan's average grade is: 95.4\n"
          ]
        }
      ]
    },
    {
      "cell_type": "code",
      "source": [
        "#13. Create a class Rectangle with methods set_dimensions() to set the dimensions and area() to calculate the area.\n",
        "class Rectangle:\n",
        "  def __init__(self, length, breadth):\n",
        "    self.length = length\n",
        "    self.breadth = breadth\n",
        "\n",
        "  def set_dimensions(self, length, breadth):\n",
        "    self.length = length\n",
        "    self.breadth = breadth\n",
        "\n",
        "  def area(self):\n",
        "    return self.breadth * self.length\n",
        "\n",
        "rec = Rectangle(127, 127)\n",
        "print(f\"Area of rectangle is: {rec.area()}\")"
      ],
      "metadata": {
        "id": "_o3dDprQLN0Q",
        "colab": {
          "base_uri": "https://localhost:8080/"
        },
        "outputId": "b06ce010-0c0e-4f8d-f2a2-c1a1c99cce74"
      },
      "execution_count": 6,
      "outputs": [
        {
          "output_type": "stream",
          "name": "stdout",
          "text": [
            "Area of rectangle is: 16129\n"
          ]
        }
      ]
    },
    {
      "cell_type": "code",
      "source": [
        "#14. Create a class Employee with a method calculate_salary() that computes the salary based on hours worked and hourly rate. Create a derived class Manager that adds a bonus to the salary.\n",
        "class Employee:\n",
        "  def __init__(self, name, hours_worked, hourly_rate):\n",
        "    self.name = name\n",
        "    self.hours_worked = hours_worked\n",
        "    self.hourly_rate = hourly_rate\n",
        "\n",
        "  def calculate_salary(self):\n",
        "    return self.hours_worked * self.hourly_rate\n",
        "\n",
        "class Manager(Employee):\n",
        "  def __init__(self, name, hours_worked, hourly_rate, bonus):\n",
        "    super().__init__(name, hours_worked, hourly_rate)\n",
        "    self.bonus = bonus\n",
        "\n",
        "  def calculate_salary(self):\n",
        "    return super().calculate_salary() + self.bonus\n",
        "\n",
        "E1 = Manager(\"Zoey\", 8, 100, 200)\n",
        "print(f\"{E1.name}'s salary is: {E1.calculate_salary()}\")\n",
        ""
      ],
      "metadata": {
        "colab": {
          "base_uri": "https://localhost:8080/"
        },
        "id": "KaP0kjIAzv-1",
        "outputId": "9af13328-8429-4938-cd63-c95e27914dc5"
      },
      "execution_count": 11,
      "outputs": [
        {
          "output_type": "stream",
          "name": "stdout",
          "text": [
            "Zoey's salary is: 1000\n"
          ]
        }
      ]
    },
    {
      "cell_type": "code",
      "source": [
        "#15. Create a class Product with attributes name, price, and quantity. Implement a method total_price() that calculates the total price of the product.\n",
        "class Product:\n",
        "  def __init__(self, name, price, quantity):\n",
        "    self.name = name\n",
        "    self.price = price\n",
        "    self.quantity = quantity\n",
        "\n",
        "  def total_price(self):\n",
        "    return self.price * self.quantity\n",
        "\n",
        "P1 = Product(\"Maggie\", 15, 4)\n",
        "print(f\"{P1.name}'s total price is: {P1.total_price()}\")"
      ],
      "metadata": {
        "colab": {
          "base_uri": "https://localhost:8080/"
        },
        "id": "shZYPBOm5ZRV",
        "outputId": "17ca0207-08c5-4fa1-a6a1-79df6a0d31ef"
      },
      "execution_count": 12,
      "outputs": [
        {
          "output_type": "stream",
          "name": "stdout",
          "text": [
            "Maggie's total price is: 60\n"
          ]
        }
      ]
    },
    {
      "cell_type": "code",
      "source": [
        "#16. Create a class Animal with an abstract method sound(). Create two derived classes Cow and Sheep that implement the sound() method.\n",
        "from abc import ABC, abstractmethod\n",
        "\n",
        "class Animal:\n",
        "  @abstractmethod\n",
        "  def sound(self):\n",
        "    pass\n",
        "\n",
        "class Cow(Animal):\n",
        "  def sound(self):\n",
        "    print(\"Cow Sound: Moo!\")\n",
        "\n",
        "class Sheep(Animal):\n",
        "  def sound(self):\n",
        "    print(\"Sheep Sound: Baa!\")\n",
        "\n",
        "cow = Cow()\n",
        "cow.sound()\n",
        "\n",
        "sheep = Sheep()\n",
        "sheep.sound()"
      ],
      "metadata": {
        "colab": {
          "base_uri": "https://localhost:8080/"
        },
        "id": "riILuF_27wlB",
        "outputId": "2af91689-596c-4f55-d681-91517718d21c"
      },
      "execution_count": 17,
      "outputs": [
        {
          "output_type": "stream",
          "name": "stdout",
          "text": [
            "Cow Sound: Moo!\n",
            "Sheep Sound: Baa!\n"
          ]
        }
      ]
    },
    {
      "cell_type": "code",
      "source": [
        "#17. Create a class Book with attributes title, author, and year_published. Add a method get_book_info() that returns a formatted string with the book's details.\n",
        "class Book:\n",
        "  def __init__(self, title, author, year_published):\n",
        "    self.title = title\n",
        "    self.author = author\n",
        "    self.year_published = year_published\n",
        "\n",
        "  def get_book_info(self):\n",
        "    return f\"Title: {self.title}, Author: {self.author}, Year Published: {self.year_published}\"\n",
        "\n",
        "b1 = Book(\"Crime and Punishment\", \"Fyodor Dostoevsky\", 1866)\n",
        "b1.get_book_info()"
      ],
      "metadata": {
        "colab": {
          "base_uri": "https://localhost:8080/",
          "height": 35
        },
        "id": "UdEevl9t8HWs",
        "outputId": "d97c55b8-d38e-4364-e5ac-f4415c081a80"
      },
      "execution_count": 20,
      "outputs": [
        {
          "output_type": "execute_result",
          "data": {
            "text/plain": [
              "'Title: Crime and Punishment, Author: Fyodor Dostoevsky, Year Published: 1866'"
            ],
            "application/vnd.google.colaboratory.intrinsic+json": {
              "type": "string"
            }
          },
          "metadata": {},
          "execution_count": 20
        }
      ]
    },
    {
      "cell_type": "code",
      "source": [
        "#18. Create a class House with attributes address and price. Create a derived class Mansion that adds an attribute number_of_rooms.\n",
        "class House:\n",
        "  def __init__(self, address, price):\n",
        "    self.address = address\n",
        "    self.price = price\n",
        "\n",
        "class Mansion(House):\n",
        "  def __init__(self, address, price, number_of_rooms):\n",
        "    super().__init__(address, price)\n",
        "    self.number_of_rooms = number_of_rooms\n",
        "\n",
        "  def get_info(self):\n",
        "    print(f\"Address: {self.address}, Price: {self.price}, Number of Rooms: {self.number_of_rooms}\")\n",
        "\n",
        "mansion = Mansion(\"The Sessile, 18 Ashley Road, London, N17 9ZS\", \"£2,530 pcm\", 1)\n",
        "mansion.get_info()"
      ],
      "metadata": {
        "colab": {
          "base_uri": "https://localhost:8080/"
        },
        "id": "AoEyk75oGV7_",
        "outputId": "c82cbe45-11d3-41a7-e199-c931df9692a1"
      },
      "execution_count": 22,
      "outputs": [
        {
          "output_type": "stream",
          "name": "stdout",
          "text": [
            "Address: The Sessile, 18 Ashley Road, London, N17 9ZS, Price: £2,530 pcm, Number of Rooms: 1\n"
          ]
        }
      ]
    }
  ]
}